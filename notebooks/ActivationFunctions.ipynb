{
  "nbformat": 4,
  "nbformat_minor": 0,
  "metadata": {
    "colab": {
      "provenance": [],
      "authorship_tag": "ABX9TyOcCUjU9Y/qz9e9c49VD0lI",
      "include_colab_link": true
    },
    "kernelspec": {
      "name": "python3",
      "display_name": "Python 3"
    },
    "language_info": {
      "name": "python"
    }
  },
  "cells": [
    {
      "cell_type": "markdown",
      "metadata": {
        "id": "view-in-github",
        "colab_type": "text"
      },
      "source": [
        "<a href=\"https://colab.research.google.com/github/maleehahassan/NNBuildingBlocksTeachingPt1/blob/main/notebooks/ActivationFunctions.ipynb\" target=\"_parent\"><img src=\"https://colab.research.google.com/assets/colab-badge.svg\" alt=\"Open In Colab\"/></a>"
      ]
    },
    {
      "cell_type": "markdown",
      "source": [
        "**Goal:** To visualize three activation functions. The Step function is a rigid, non-differentiable switch. The Sigmoid function is smooth and squashes values between 0 and 1, which is useful for probabilities but can lead to vanishing gradients. The ReLU (Rectified Linear Unit) is simple and computationally efficient, making it a popular activation function in modern deep learning."
      ],
      "metadata": {
        "id": "Nqq79ghtxBHG"
      }
    },
    {
      "cell_type": "code",
      "execution_count": null,
      "metadata": {
        "id": "B3z6vCvvwXQP"
      },
      "outputs": [],
      "source": [
        "import numpy as np\n",
        "import matplotlib.pyplot as plt"
      ]
    },
    {
      "cell_type": "code",
      "source": [
        "# 1. Create input values\n",
        "x = np.linspace(-10, 10, 100)"
      ],
      "metadata": {
        "id": "exWa321Lwg_G"
      },
      "execution_count": null,
      "outputs": []
    },
    {
      "cell_type": "code",
      "source": [
        "# 2. Implement activation functions\n",
        "def step(x):\n",
        "    return #your code here\n",
        "\n",
        "def sigmoid(x):\n",
        "    return #your code here\n",
        "\n",
        "def relu(x):\n",
        "    return #your code here"
      ],
      "metadata": {
        "id": "F2Z_phVtwkL2"
      },
      "execution_count": null,
      "outputs": []
    },
    {
      "cell_type": "code",
      "source": [
        "# 3. Plot the functions\n",
        "fig, (ax1, ax2, ax3) = plt.subplots(1, 3, figsize=(15, 5))\n",
        "\n",
        "ax1.plot(x, step(x))\n",
        "ax1.set_title(\"Step Function\")\n",
        "ax1.grid(True)\n",
        "\n",
        "ax2.plot(x, sigmoid(x))\n",
        "ax2.set_title(\"Sigmoid Function\")\n",
        "ax2.grid(True)\n",
        "\n",
        "ax3.plot(x, relu(x))\n",
        "ax3.set_title(\"ReLU Function\")\n",
        "ax3.grid(True)\n",
        "\n",
        "plt.tight_layout()\n",
        "plt.show()"
      ],
      "metadata": {
        "id": "7AUhxn1TwtlY"
      },
      "execution_count": null,
      "outputs": []
    }
  ]
}