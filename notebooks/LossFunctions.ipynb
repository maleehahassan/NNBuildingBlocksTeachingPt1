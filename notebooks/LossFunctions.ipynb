{
  "nbformat": 4,
  "nbformat_minor": 0,
  "metadata": {
    "colab": {
      "provenance": [],
      "authorship_tag": "ABX9TyOvWnIYnTNx7e75b91fBHF4",
      "include_colab_link": true
    },
    "kernelspec": {
      "name": "python3",
      "display_name": "Python 3"
    },
    "language_info": {
      "name": "python"
    }
  },
  "cells": [
    {
      "cell_type": "markdown",
      "metadata": {
        "id": "view-in-github",
        "colab_type": "text"
      },
      "source": [
        "<a href=\"https://colab.research.google.com/github/maleehahassan/NNBuildingBlocksTeachingPt1/blob/main/notebooks/LossFunctions.ipynb\" target=\"_parent\"><img src=\"https://colab.research.google.com/assets/colab-badge.svg\" alt=\"Open In Colab\"/></a>"
      ]
    },
    {
      "cell_type": "markdown",
      "source": [
        "**Goal:** This exercise involves implementing the two most common loss functions: Mean Absolute Error (MAE) and Mean Squared Error (MSE). You also get to observe how both errors behave when you have an outlier in your data."
      ],
      "metadata": {
        "id": "cUjUlKIGRILb"
      }
    },
    {
      "cell_type": "code",
      "source": [
        "import numpy as np"
      ],
      "metadata": {
        "id": "Ec6HkIFdQrL3"
      },
      "execution_count": null,
      "outputs": []
    },
    {
      "cell_type": "code",
      "source": [
        "# 1. Sample data\n",
        "y_true = np.array([2, 4, 6, 8, 10])\n",
        "y_pred = np.array([2.5, 3.5, 6.2, 7.8, 9.5])"
      ],
      "metadata": {
        "id": "dPgwS9NfQs52"
      },
      "execution_count": null,
      "outputs": []
    },
    {
      "cell_type": "code",
      "execution_count": null,
      "metadata": {
        "id": "dpPpEPCpx-o3"
      },
      "outputs": [],
      "source": [
        "# 2. MAE implementation\n",
        "def mae(y_true, y_pred):\n",
        "    return #your code here\n",
        "\n",
        "# 3. MSE implementation\n",
        "def mse(y_true, y_pred):\n",
        "    return #your code here"
      ]
    },
    {
      "cell_type": "code",
      "source": [
        "# 4. Calculate initial loss\n",
        "print(\"--- Without Outlier ---\")\n",
        "print(f\"Predictions: {y_pred}\")\n",
        "print(f\"Mean Absolute Error (MAE): {mae(y_true, y_pred):.4f}\")\n",
        "print(f\"Mean Squared Error (MSE): {mse(y_true, y_pred):.4f}\\n\")"
      ],
      "metadata": {
        "id": "agcUup0JQ07F"
      },
      "execution_count": null,
      "outputs": []
    },
    {
      "cell_type": "code",
      "source": [
        "# 5. Add an outlier\n",
        "y_pred_outlier = np.array([2.5, 3.5, 6.2, 7.8, 15.0]) # Changed last prediction from 9.5 to 15.0\n",
        "\n",
        "print(\"--- With an Outlier ---\")\n",
        "print(f\"Predictions: {y_pred_outlier}\")\n",
        "print(f\"Mean Absolute Error (MAE): {mae(y_true, y_pred_outlier):.4f}\")\n",
        "print(f\"Mean Squared Error (MSE): {mse(y_true, y_pred_outlier):.4f}\")"
      ],
      "metadata": {
        "id": "TCwQWW72Q2Hy"
      },
      "execution_count": null,
      "outputs": []
    }
  ]
}