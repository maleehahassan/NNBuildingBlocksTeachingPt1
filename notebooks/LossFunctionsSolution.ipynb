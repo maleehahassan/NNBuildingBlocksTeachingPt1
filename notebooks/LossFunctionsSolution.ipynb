{
  "nbformat": 4,
  "nbformat_minor": 0,
  "metadata": {
    "colab": {
      "provenance": [],
      "authorship_tag": "ABX9TyMHwPspsBBVEoX95fh33vOl",
      "include_colab_link": true
    },
    "kernelspec": {
      "name": "python3",
      "display_name": "Python 3"
    },
    "language_info": {
      "name": "python"
    }
  },
  "cells": [
    {
      "cell_type": "markdown",
      "metadata": {
        "id": "view-in-github",
        "colab_type": "text"
      },
      "source": [
        "<a href=\"https://colab.research.google.com/github/maleehahassan/NNBuildingBlocksTeachingPt1/blob/main/notebooks/LossFunctionsSolution.ipynb\" target=\"_parent\"><img src=\"https://colab.research.google.com/assets/colab-badge.svg\" alt=\"Open In Colab\"/></a>"
      ]
    },
    {
      "cell_type": "code",
      "source": [
        "import numpy as np"
      ],
      "metadata": {
        "id": "ctq4KvRxuW6b"
      },
      "execution_count": null,
      "outputs": []
    },
    {
      "cell_type": "code",
      "source": [
        "# 1. Sample data\n",
        "y_true = np.array([2, 4, 6, 8, 10])\n",
        "y_pred = np.array([2.5, 3.5, 6.2, 7.8, 9.5])"
      ],
      "metadata": {
        "id": "j4bBNjHUuZWu"
      },
      "execution_count": null,
      "outputs": []
    },
    {
      "cell_type": "code",
      "execution_count": null,
      "metadata": {
        "id": "UmQOLpu0aWOx"
      },
      "outputs": [],
      "source": [
        "# 2. MAE implementation\n",
        "def mae(y_true, y_pred):\n",
        "    return np.mean(np.abs(y_true - y_pred))\n",
        "\n",
        "# 3. MSE implementation\n",
        "def mse(y_true, y_pred):\n",
        "    return np.mean((y_true - y_pred)**2)"
      ]
    },
    {
      "cell_type": "code",
      "source": [
        "# 4. Calculate initial loss\n",
        "print(\"--- Without Outlier ---\")\n",
        "print(f\"Predictions: {y_pred}\")\n",
        "print(f\"Mean Absolute Error (MAE): {mae(y_true, y_pred):.4f}\")\n",
        "print(f\"Mean Squared Error (MSE): {mse(y_true, y_pred):.4f}\\n\")"
      ],
      "metadata": {
        "id": "xtsN50AQub5J",
        "outputId": "9e02def6-fb43-4947-bca5-2d39307e9d90",
        "colab": {
          "base_uri": "https://localhost:8080/"
        }
      },
      "execution_count": null,
      "outputs": [
        {
          "output_type": "stream",
          "name": "stdout",
          "text": [
            "--- Without Outlier ---\n",
            "Predictions: [2.5 3.5 6.2 7.8 9.5]\n",
            "Mean Absolute Error (MAE): 0.3800\n",
            "Mean Squared Error (MSE): 0.1660\n",
            "\n"
          ]
        }
      ]
    },
    {
      "cell_type": "code",
      "source": [
        "# 5. Add an outlier\n",
        "y_pred_outlier = np.array([2.5, 3.5, 6.2, 7.8, 15.0]) # Changed last prediction from 9.5 to 15.0\n",
        "\n",
        "print(\"--- With an Outlier ---\")\n",
        "print(f\"Predictions: {y_pred_outlier}\")\n",
        "print(f\"Mean Absolute Error (MAE): {mae(y_true, y_pred_outlier):.4f}\")\n",
        "print(f\"Mean Squared Error (MSE): {mse(y_true, y_pred_outlier):.4f}\")"
      ],
      "metadata": {
        "id": "Khs7RKeyudeY",
        "outputId": "00bb61d1-ee7e-4062-8628-f572aa36dccf",
        "colab": {
          "base_uri": "https://localhost:8080/"
        }
      },
      "execution_count": null,
      "outputs": [
        {
          "output_type": "stream",
          "name": "stdout",
          "text": [
            "--- With an Outlier ---\n",
            "Predictions: [ 2.5  3.5  6.2  7.8 15. ]\n",
            "Mean Absolute Error (MAE): 1.2800\n",
            "Mean Squared Error (MSE): 5.1160\n"
          ]
        }
      ]
    }
  ]
}